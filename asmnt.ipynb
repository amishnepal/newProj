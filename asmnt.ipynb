{
  "cells": [
    {
      "cell_type": "markdown",
      "metadata": {
        "id": "view-in-github",
        "colab_type": "text"
      },
      "source": [
        "<a href=\"https://colab.research.google.com/github/amishnepal/newProj/blob/main/asmnt.ipynb\" target=\"_parent\"><img src=\"https://colab.research.google.com/assets/colab-badge.svg\" alt=\"Open In Colab\"/></a>"
      ]
    },
    {
      "cell_type": "code",
      "execution_count": 1,
      "metadata": {
        "id": "23OWjgNp4D3H"
      },
      "outputs": [],
      "source": [
        "# Step 1: Import necessary libraries\n",
        "import pandas as pd\n",
        "import numpy as np\n",
        "from sklearn.preprocessing import StandardScaler, MinMaxScaler, LabelEncoder, OneHotEncoder\n",
        "from sklearn.decomposition import PCA\n",
        "import matplotlib.pyplot as plt\n",
        "import seaborn as sns"
      ]
    },
    {
      "cell_type": "code",
      "execution_count": 3,
      "metadata": {
        "colab": {
          "base_uri": "https://localhost:8080/"
        },
        "id": "KZz7NNjG4D3J",
        "outputId": "63ce35e8-0702-47f9-9eb4-24cdee328be9"
      },
      "outputs": [
        {
          "output_type": "stream",
          "name": "stdout",
          "text": [
            "   Median_House_Value  Median_Income  Median_Age  Tot_Rooms  Tot_Bedrooms  \\\n",
            "0            452600.0         8.3252        41.0      880.0         129.0   \n",
            "1            358500.0         8.3014        21.0     7099.0        1106.0   \n",
            "2            352100.0         7.2574        52.0     1467.0         190.0   \n",
            "3            341300.0         5.6431        52.0     1274.0         235.0   \n",
            "4            342200.0         3.8462        52.0     1627.0         280.0   \n",
            "\n",
            "   Population  Households  Latitude  Longitude  Distance_to_coast  \\\n",
            "0       322.0       126.0     37.88    -122.23        9263.040773   \n",
            "1      2401.0      1138.0     37.86    -122.22       10225.733072   \n",
            "2       496.0       177.0     37.85    -122.24        8259.085109   \n",
            "3       558.0       219.0     37.85    -122.25        7768.086571   \n",
            "4       565.0       259.0     37.85    -122.25        7768.086571   \n",
            "\n",
            "   Distance_to_LA  Distance_to_SanDiego  Distance_to_SanJose  \\\n",
            "0   556529.158342         735501.806984         67432.517001   \n",
            "1   554279.850069         733236.884360         65049.908574   \n",
            "2   554610.717069         733525.682937         64867.289833   \n",
            "3   555194.266086         734095.290744         65287.138412   \n",
            "4   555194.266086         734095.290744         65287.138412   \n",
            "\n",
            "   Distance_to_SanFrancisco  \n",
            "0              21250.213767  \n",
            "1              20880.600400  \n",
            "2              18811.487450  \n",
            "3              18031.047568  \n",
            "4              18031.047568  \n",
            "(15727, 14)\n",
            "       Median_House_Value  Median_Income    Median_Age     Tot_Rooms  \\\n",
            "count        15727.000000   15726.000000  15726.000000  15726.000000   \n",
            "mean        200615.792014       3.813704     28.780872   2662.592395   \n",
            "std         112723.858729       1.889150     12.517655   2288.601754   \n",
            "min          14999.000000       0.499900      1.000000      2.000000   \n",
            "25%         118300.000000       2.520200     18.000000   1439.250000   \n",
            "50%         172400.000000       3.475000     29.000000   2108.500000   \n",
            "75%         248450.000000       4.669900     37.000000   3136.750000   \n",
            "max         500001.000000      15.000100     52.000000  39320.000000   \n",
            "\n",
            "       Tot_Bedrooms    Population    Households      Latitude     Longitude  \\\n",
            "count  15726.000000  15726.000000  15726.000000  15726.000000  15726.000000   \n",
            "mean     548.468587   1450.677731    507.247743     35.124231   -118.990322   \n",
            "std      441.768125   1178.920001    398.903996      2.053186      1.856966   \n",
            "min        2.000000      3.000000      2.000000     32.540000   -124.350000   \n",
            "25%      296.000000    794.000000    280.000000     33.850000   -120.347500   \n",
            "50%      437.000000   1173.000000    410.000000     34.080000   -118.270000   \n",
            "75%      654.000000   1747.000000    607.000000     36.900000   -117.860000   \n",
            "max     6445.000000  35682.000000   6082.000000     41.950000   -114.310000   \n",
            "\n",
            "       Distance_to_coast  Distance_to_LA  Distance_to_SanDiego  \\\n",
            "count       15726.000000    1.572600e+04          1.572600e+04   \n",
            "mean        41276.795109    2.087085e+05          3.225980e+05   \n",
            "std         49193.653662    2.348679e+05          2.749680e+05   \n",
            "min           193.186806    4.205891e+02          4.849180e+02   \n",
            "25%          9646.802711    2.412002e+04          1.499247e+05   \n",
            "50%         20628.367659    8.028998e+04          1.794759e+05   \n",
            "75%         52724.122733    4.167289e+05          5.947717e+05   \n",
            "max        333804.686371    1.018260e+06          1.196919e+06   \n",
            "\n",
            "       Distance_to_SanJose  Distance_to_SanFrancisco  \n",
            "count         15726.000000              15726.000000  \n",
            "mean         413352.655355             457756.948351  \n",
            "std          196645.918894             231223.894403  \n",
            "min           15032.880855                679.906897  \n",
            "25%          217395.862167             253234.852617  \n",
            "50%          493892.112574             561727.124334  \n",
            "75%          531248.626005             599053.497926  \n",
            "max          836762.678210             903627.663298  \n"
          ]
        }
      ],
      "source": [
        "\n",
        "# Step 2: Load a sample dataset\n",
        "# For this example, let's use the Titanic dataset from seaborn\n",
        "data1 = pd.read_csv('/content/sample_data/California_Houses.csv')\n",
        "\n",
        "# Display the first few rows of the dataset\n",
        "print(data1.head())\n",
        "\n",
        "# Check the dimensions of the dataset\n",
        "print(data1.shape)\n",
        "\n",
        "# Get summary statistics of numerical variables\n",
        "print(data1.describe())"
      ]
    },
    {
      "cell_type": "code",
      "execution_count": 4,
      "metadata": {
        "colab": {
          "base_uri": "https://localhost:8080/"
        },
        "id": "ygGZYUNy4D3K",
        "outputId": "1d120046-9868-47d3-8365-85b890541787"
      },
      "outputs": [
        {
          "output_type": "stream",
          "name": "stdout",
          "text": [
            "Missing values in each column:\n",
            " Median_House_Value          0\n",
            "Median_Income               1\n",
            "Median_Age                  1\n",
            "Tot_Rooms                   1\n",
            "Tot_Bedrooms                1\n",
            "Population                  1\n",
            "Households                  1\n",
            "Latitude                    1\n",
            "Longitude                   1\n",
            "Distance_to_coast           1\n",
            "Distance_to_LA              1\n",
            "Distance_to_SanDiego        1\n",
            "Distance_to_SanJose         1\n",
            "Distance_to_SanFrancisco    1\n",
            "dtype: int64\n"
          ]
        }
      ],
      "source": [
        "# Step 3: Find and handle missing values\n",
        "# Check for missing values\n",
        "missing_values = data1.isnull().sum()\n",
        "print(\"Missing values in each column:\\n\", missing_values)\n"
      ]
    },
    {
      "cell_type": "code",
      "execution_count": 5,
      "metadata": {
        "id": "kyGvSuDx4D3K"
      },
      "outputs": [],
      "source": [
        "scaler = MinMaxScaler()\n",
        "data1[['Median_Income', 'Median_Age']] = scaler.fit_transform(data1[['Median_Income','Median_Age']])"
      ]
    }
  ],
  "metadata": {
    "kernelspec": {
      "display_name": "Python 3",
      "language": "python",
      "name": "python3"
    },
    "language_info": {
      "codemirror_mode": {
        "name": "ipython",
        "version": 3
      },
      "file_extension": ".py",
      "mimetype": "text/x-python",
      "name": "python",
      "nbconvert_exporter": "python",
      "pygments_lexer": "ipython3",
      "version": "3.12.4"
    },
    "colab": {
      "provenance": [],
      "include_colab_link": true
    }
  },
  "nbformat": 4,
  "nbformat_minor": 0
}